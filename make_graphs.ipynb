{
 "cells": [
  {
   "cell_type": "code",
   "execution_count": 1,
   "metadata": {
    "collapsed": true
   },
   "outputs": [],
   "source": [
    "import numpy as np\n",
    "import matplotlib.pyplot as plt\n",
    "import scipy.stats as stat"
   ]
  },
  {
   "cell_type": "code",
   "execution_count": 81,
   "metadata": {
    "collapsed": false
   },
   "outputs": [],
   "source": [
    "T_n_P = np.loadtxt(\"outputs/ep2_out_n_10.txt\", converters = {0: lambda s: float((s.decode(encoding='UTF-8')).strip(\"\\\"\"))})\n",
    "T_n_M = np.loadtxt(\"outputs/ep2_out_n_30.txt\", converters = {0: lambda s: float((s.decode(encoding='UTF-8')).strip(\"\\\"\"))})\n",
    "T_n_G = np.loadtxt(\"outputs/ep2_out_n_50.txt\", converters = {0: lambda s: float((s.decode(encoding='UTF-8')).strip(\"\\\"\"))})\n",
    "\n",
    "t = .683 #retirado da tabela normal para 0.95"
   ]
  },
  {
   "cell_type": "code",
   "execution_count": 84,
   "metadata": {
    "collapsed": false
   },
   "outputs": [
    {
     "data": {
      "image/png": "[encoded data removed]",
      "text/plain": [
       "<matplotlib.figure.Figure at 0x7f1d8e3dad68>"
      ]
     },
     "metadata": {},
     "output_type": "display_data"
    }
   ],
   "source": [
    "ind = np.arange(3)\n",
    "m_P = np.mean(T_n_P)#[:,0])\n",
    "s_P = np.std(T_n_P)#[:,0])\n",
    "m_M = np.mean(T_n_M)#[:,0])\n",
    "s_M = np.std(T_n_M)#[:,0])\n",
    "m_G = np.mean(T_n_G)#[:,0])\n",
    "s_G = np.std(T_n_G)#[:,0])\n",
    "\n",
    "plt.bar(ind,[m_P,m_M,m_G],align='center')\n",
    "IC_P = [m_P-t*s_P/np.sqrt(30),m_P+t*s_P/np.sqrt(30)]\n",
    "IC_M = [m_M-t*s_M/np.sqrt(30),m_M+t*s_M/np.sqrt(30) ]\n",
    "IC_G = [m_G-t*s_G/np.sqrt(30),m_G+t*s_G/np.sqrt(30) ]\n",
    "plt.title('Tempo médio de execução para diferentes quantidades de ciclistas')\n",
    "plt.xticks(ind, (\"10 ciclistas\\nIC(0.95) = [%.1f, %.1f]\"% (IC_P[0],IC_P[1]), \"30 ciclistas\\nIC(0.95) = [%.1f, %.1f]\"% (IC_M[0],IC_M[1]), \"50 ciclistas\\nIC(0.95) = [%.1f, %.1f]\"% (IC_G[0],IC_G[1])))\n",
    "plt.savefig('graphs/n_time.png')\n",
    "plt.show()"
   ]
  },
  {
   "cell_type": "code",
   "execution_count": null,
   "metadata": {
    "collapsed": true
   },
   "outputs": [],
   "source": []
  }
 ],
 "metadata": {
  "anaconda-cloud": {},
  "kernelspec": {
   "display_name": "Python [default]",
   "language": "python",
   "name": "python3"
  },
  "language_info": {
   "codemirror_mode": {
    "name": "ipython",
    "version": 3
   },
   "file_extension": ".py",
   "mimetype": "text/x-python",
   "name": "python",
   "nbconvert_exporter": "python",
   "pygments_lexer": "ipython3",
   "version": "3.5.2"
  },
  "latex_envs": {
   "LaTeX_envs_menu_present": true,
   "autocomplete": true,
   "bibliofile": "biblio.bib",
   "cite_by": "apalike",
   "current_citInitial": 1,
   "eqLabelWithNumbers": true,
   "eqNumInitial": 1,
   "hotkeys": {
    "equation": "Ctrl-E",
    "itemize": "Ctrl-I"
   },
   "labels_anchors": false,
   "latex_user_defs": false,
   "report_style_numbering": false,
   "user_envs_cfg": false
  }
 },
 "nbformat": 4,
 "nbformat_minor": 1
}
